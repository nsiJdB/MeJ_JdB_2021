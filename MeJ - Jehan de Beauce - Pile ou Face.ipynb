{
 "cells": [
  {
   "cell_type": "markdown",
   "metadata": {},
   "source": [
    "# Atelier MATHs.en.JEANS - Lycée Jehan de Beauce\n",
    "# Sujet des piles ou face"
   ]
  },
  {
   "cell_type": "markdown",
   "metadata": {},
   "source": [
    "Pour exécuter les lignes de code ci-dessous placer le curseur de la souris dans la cellule contenant les lignes de code à exécuter puis cliquer sur `Exécuter`."
   ]
  },
  {
   "cell_type": "markdown",
   "metadata": {},
   "source": [
    "## Simulation pour une combinaison de 3 lettres"
   ]
  },
  {
   "cell_type": "code",
   "execution_count": null,
   "metadata": {},
   "outputs": [],
   "source": [
    "from random import randint\n",
    "\n",
    "#programme qui fait un tableau quand les joueurs choisise trois lettres\n",
    "def test(j1, j2, tirage):\n",
    "    \"\"\" fonction qui renvoie si un des joueur a gagne\"\"\"\n",
    "    if j1[0] == tirage[-3] and j1[1] == tirage[-2] and j1[2] == tirage[-1]:\n",
    "        return True, 1\n",
    "    elif j2[0] == tirage[-3] and j2[1] == tirage[-2] and j2[2] == tirage[-1]:\n",
    "        return True, 2\n",
    "    else:\n",
    "        return False, 0\n",
    "\n",
    "\n",
    "def jeu(j):\n",
    "    \"\"\"change la sequence qu'on choisit les joueur\"\"\"\n",
    "    j[-1] += 1\n",
    "    if j[-1] == 2:\n",
    "        j[-1] = 0\n",
    "        j[-2] += 1\n",
    "    if j[-2] == 2:\n",
    "        j[-2] = 0\n",
    "        j[-3] += 1\n",
    "    return j\n",
    "\n",
    "def pf(conbinaison):\n",
    "    \"\"\"fonction qui transforme les conbinaisons des joueurs\n",
    "    en lettre pour les afficher\"\"\"\n",
    "    final = \"\"\n",
    "    for i in conbinaison:\n",
    "        if i == 0:\n",
    "            final += \"P\"\n",
    "        else:\n",
    "            final += \"F\"\n",
    "    return final\n",
    "\n",
    "\n",
    "def main():\n",
    "    joueur1 = [0,0,-1]\n",
    "    # le joueur 1 choisit sa configuration\n",
    "    joueur2 = [0,0,-1]\n",
    "    # le joueur 2 choisit sa configuration\n",
    "    gagne = 0\n",
    "    # variable qui compte combien de fois ou joueur 1 gagne\n",
    "    gagne2 = 0\n",
    "    # variable qui compte le nombre de fois ou joueur 2 gagne\n",
    "\n",
    "    print(\"          PPP           PPF           PFP\", end = \"\")\n",
    "    print(\"           PFF          FPP           FPF\", end =\"\")\n",
    "    print(\"           FFP           FFF\")\n",
    "    # On teste si les choix des joueurs sont tombe\n",
    "    # et combien de fois le joueur 1 ou le 2 gagnent\n",
    "    for a in range(8):\n",
    "        joueur1 = jeu(joueur1)\n",
    "        print(pf(joueur1), end = \"   \")\n",
    "        for b in range(8):\n",
    "            joueur2 = jeu(joueur2)\n",
    "            if joueur1 == joueur2:\n",
    "                print(\"     /        \", end = \"\")\n",
    "            else:\n",
    "                for i in range(10000):\n",
    "                    teste = False\n",
    "                    # variable teste qui regarde si un joueur à gagner\n",
    "                    L = []\n",
    "                    L.append(randint(0,1))\n",
    "                    L.append(randint(0,1))\n",
    "                    # On commence une liste avec tous les tirs.\n",
    "                    while teste != True:\n",
    "                        L.append(randint(0,1))\n",
    "                        teste, gagnant = test(joueur1,joueur2,L)\n",
    "                    if gagnant == 1:\n",
    "                        gagne += 1\n",
    "                    if gagnant == 2:\n",
    "                        gagne2 += 1\n",
    "                print(round(gagne/100),\"% /\", round(gagne2/100),\"%\", end = \"   \")\n",
    "\n",
    "            gagne = 0\n",
    "            gagne2 = 0\n",
    "        joueur2 = [0,0,-1]\n",
    "        print()\n",
    "\n",
    "main()"
   ]
  }
 ],
 "metadata": {
  "kernelspec": {
   "display_name": "Python 3",
   "language": "python",
   "name": "python3"
  },
  "language_info": {
   "codemirror_mode": {
    "name": "ipython",
    "version": 3
   },
   "file_extension": ".py",
   "mimetype": "text/x-python",
   "name": "python",
   "nbconvert_exporter": "python",
   "pygments_lexer": "ipython3",
   "version": "3.8.5"
  }
 },
 "nbformat": 4,
 "nbformat_minor": 4
}
